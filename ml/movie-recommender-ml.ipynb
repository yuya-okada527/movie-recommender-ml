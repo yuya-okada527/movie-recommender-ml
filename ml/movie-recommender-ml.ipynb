{
 "cells": [
  {
   "cell_type": "code",
   "execution_count": 1,
   "metadata": {},
   "outputs": [
    {
     "name": "stdout",
     "output_type": "stream",
     "text": [
      "Collecting pip\n",
      "\u001b[?25l  Downloading https://files.pythonhosted.org/packages/43/84/23ed6a1796480a6f1a2d38f2802901d078266bda38388954d01d3f2e821d/pip-20.1.1-py2.py3-none-any.whl (1.5MB)\n",
      "\u001b[K    100% |████████████████████████████████| 1.5MB 13.9MB/s ta 0:00:01\n",
      "\u001b[31mfastai 1.0.60 requires nvidia-ml-py3, which is not installed.\u001b[0m\n",
      "\u001b[?25hInstalling collected packages: pip\n",
      "  Found existing installation: pip 10.0.1\n",
      "    Uninstalling pip-10.0.1:\n",
      "      Successfully uninstalled pip-10.0.1\n",
      "Successfully installed pip-20.1.1\n",
      "\u001b[33mYou are using pip version 20.1.1, however version 20.2b1 is available.\n",
      "You should consider upgrading via the 'pip install --upgrade pip' command.\u001b[0m\n"
     ]
    }
   ],
   "source": [
    "!pip install -U pip"
   ]
  },
  {
   "cell_type": "code",
   "execution_count": 2,
   "metadata": {},
   "outputs": [
    {
     "name": "stdout",
     "output_type": "stream",
     "text": [
      "Collecting transformers\n",
      "  Downloading transformers-2.10.0-py3-none-any.whl (660 kB)\n",
      "\u001b[K     |████████████████████████████████| 660 kB 10.1 MB/s eta 0:00:01\n",
      "\u001b[?25hCollecting sacremoses\n",
      "  Downloading sacremoses-0.0.43.tar.gz (883 kB)\n",
      "\u001b[K     |████████████████████████████████| 883 kB 24.1 MB/s eta 0:00:01\n",
      "\u001b[?25hCollecting tokenizers==0.7.0\n",
      "  Downloading tokenizers-0.7.0-cp36-cp36m-manylinux1_x86_64.whl (3.8 MB)\n",
      "\u001b[K     |████████████████████████████████| 3.8 MB 24.8 MB/s eta 0:00:01\n",
      "\u001b[?25hCollecting regex!=2019.12.17\n",
      "  Downloading regex-2020.5.14-cp36-cp36m-manylinux2010_x86_64.whl (675 kB)\n",
      "\u001b[K     |████████████████████████████████| 675 kB 62.7 MB/s eta 0:00:01\n",
      "\u001b[?25hRequirement already satisfied: filelock in /home/ec2-user/anaconda3/envs/pytorch_p36/lib/python3.6/site-packages (from transformers) (3.0.4)\n",
      "Requirement already satisfied: tqdm>=4.27 in /home/ec2-user/anaconda3/envs/pytorch_p36/lib/python3.6/site-packages (from transformers) (4.42.1)\n",
      "Requirement already satisfied: numpy in /home/ec2-user/anaconda3/envs/pytorch_p36/lib/python3.6/site-packages (from transformers) (1.15.4)\n",
      "Requirement already satisfied: dataclasses; python_version < \"3.7\" in /home/ec2-user/anaconda3/envs/pytorch_p36/lib/python3.6/site-packages (from transformers) (0.6)\n",
      "Requirement already satisfied: requests in /home/ec2-user/anaconda3/envs/pytorch_p36/lib/python3.6/site-packages (from transformers) (2.20.0)\n",
      "Collecting sentencepiece\n",
      "  Downloading sentencepiece-0.1.91-cp36-cp36m-manylinux1_x86_64.whl (1.1 MB)\n",
      "\u001b[K     |████████████████████████████████| 1.1 MB 60.5 MB/s eta 0:00:01\n",
      "\u001b[?25hRequirement already satisfied: six in /home/ec2-user/anaconda3/envs/pytorch_p36/lib/python3.6/site-packages (from sacremoses->transformers) (1.11.0)\n",
      "Requirement already satisfied: click in /home/ec2-user/anaconda3/envs/pytorch_p36/lib/python3.6/site-packages (from sacremoses->transformers) (6.7)\n",
      "Collecting joblib\n",
      "  Downloading joblib-0.15.1-py3-none-any.whl (298 kB)\n",
      "\u001b[K     |████████████████████████████████| 298 kB 59.9 MB/s eta 0:00:01\n",
      "\u001b[?25hRequirement already satisfied: chardet<3.1.0,>=3.0.2 in /home/ec2-user/anaconda3/envs/pytorch_p36/lib/python3.6/site-packages (from requests->transformers) (3.0.4)\n",
      "Requirement already satisfied: idna<2.8,>=2.5 in /home/ec2-user/anaconda3/envs/pytorch_p36/lib/python3.6/site-packages (from requests->transformers) (2.6)\n",
      "Requirement already satisfied: certifi>=2017.4.17 in /home/ec2-user/anaconda3/envs/pytorch_p36/lib/python3.6/site-packages (from requests->transformers) (2019.11.28)\n",
      "Requirement already satisfied: urllib3<1.25,>=1.21.1 in /home/ec2-user/anaconda3/envs/pytorch_p36/lib/python3.6/site-packages (from requests->transformers) (1.23)\n",
      "Building wheels for collected packages: sacremoses\n",
      "  Building wheel for sacremoses (setup.py) ... \u001b[?25ldone\n",
      "\u001b[?25h  Created wheel for sacremoses: filename=sacremoses-0.0.43-py3-none-any.whl size=893264 sha256=1e452efef555f61f509c8ba0e02c0f8f6f902d14d2eea50db79a9d5e90f2920b\n",
      "  Stored in directory: /home/ec2-user/.cache/pip/wheels/49/25/98/cdea9c79b2d9a22ccc59540b1784b67f06b633378e97f58da2\n",
      "Successfully built sacremoses\n",
      "Installing collected packages: regex, joblib, sacremoses, tokenizers, sentencepiece, transformers\n",
      "Successfully installed joblib-0.15.1 regex-2020.5.14 sacremoses-0.0.43 sentencepiece-0.1.91 tokenizers-0.7.0 transformers-2.10.0\n"
     ]
    }
   ],
   "source": [
    "!pip install transformers"
   ]
  },
  {
   "cell_type": "code",
   "execution_count": 3,
   "metadata": {},
   "outputs": [],
   "source": [
    "import torch\n",
    "from transformers import BertModel, BertTokenizer\n",
    "import boto3"
   ]
  },
  {
   "cell_type": "code",
   "execution_count": 4,
   "metadata": {},
   "outputs": [
    {
     "data": {
      "text/plain": [
       "HBox(children=(FloatProgress(value=0.0, description='Downloading', max=231508.0, style=ProgressStyle(descripti…"
      ]
     },
     "metadata": {},
     "output_type": "display_data"
    },
    {
     "name": "stdout",
     "output_type": "stream",
     "text": [
      "\n"
     ]
    }
   ],
   "source": [
    "tokenizer = BertTokenizer.from_pretrained(\"bert-base-uncased\")"
   ]
  },
  {
   "cell_type": "code",
   "execution_count": 5,
   "metadata": {},
   "outputs": [],
   "source": [
    "# 定数\n",
    "BUCKET_NAME = \"movie-recommender-ml-9353-2684-4264\"\n",
    "OBJECT_KEY = \"data/movies.tsv\"\n",
    "\n",
    "# データの取得\n",
    "s3 = boto3.resource(\"s3\")\n",
    "bucket = s3.Bucket(BUCKET_NAME)\n",
    "obj = bucket.Object(OBJECT_KEY)\n",
    "content = obj.get()[\"Body\"].read().decode(\"utf-8\")"
   ]
  },
  {
   "cell_type": "code",
   "execution_count": 6,
   "metadata": {},
   "outputs": [
    {
     "data": {
      "text/plain": [
       "HBox(children=(FloatProgress(value=0.0, description='Downloading', max=433.0, style=ProgressStyle(description_…"
      ]
     },
     "metadata": {},
     "output_type": "display_data"
    },
    {
     "name": "stdout",
     "output_type": "stream",
     "text": [
      "\n"
     ]
    },
    {
     "data": {
      "text/plain": [
       "HBox(children=(FloatProgress(value=0.0, description='Downloading', max=440473133.0, style=ProgressStyle(descri…"
      ]
     },
     "metadata": {},
     "output_type": "display_data"
    },
    {
     "name": "stdout",
     "output_type": "stream",
     "text": [
      "\n"
     ]
    }
   ],
   "source": [
    "# Bertモデルのロード\n",
    "model = BertModel.from_pretrained(\"bert-base-uncased\", output_hidden_states=True)\n",
    "device = \"cuda\" if torch.cuda.is_available() else \"cpu\"\n",
    "model = model.to(device)"
   ]
  },
  {
   "cell_type": "code",
   "execution_count": 7,
   "metadata": {},
   "outputs": [],
   "source": [
    "def encode(overview, device, tokenizer):\n",
    "    ids = tokenizer.encode(overview)\n",
    "    ids = torch.LongTensor(ids)\n",
    "    ids = ids.to(device)\n",
    "    return ids.unsqueeze(0)"
   ]
  },
  {
   "cell_type": "code",
   "execution_count": 8,
   "metadata": {},
   "outputs": [],
   "source": [
    "def embedding(overview, model):\n",
    "    out = model(input_ids=overview)\n",
    "    hidden_states = out[2]\n",
    "    sentence_embedding = torch.mean(hidden_states[-1], dim=1).squeeze()\n",
    "    return sentence_embedding"
   ]
  },
  {
   "cell_type": "code",
   "execution_count": 9,
   "metadata": {},
   "outputs": [],
   "source": [
    "embeddings = {}\n",
    "with torch.no_grad():\n",
    "    for i, row in enumerate(content.split(\"\\n\")):\n",
    "        if i == 0:\n",
    "            continue\n",
    "        if len(row.split(\"\\t\")) < 3:\n",
    "            continue\n",
    "        movie_id, title, overview = row.split(\"\\t\")\n",
    "        overview = encode(overview, device, tokenizer)\n",
    "        sentence_embedding = embedding(overview, model)\n",
    "        embeddings[title] = sentence_embedding"
   ]
  },
  {
   "cell_type": "code",
   "execution_count": 10,
   "metadata": {},
   "outputs": [],
   "source": [
    "import pandas as pd\n",
    "from torch.nn import CosineSimilarity\n",
    "\n",
    "cos = CosineSimilarity(dim=1, eps=1e-6)"
   ]
  },
  {
   "cell_type": "code",
   "execution_count": 31,
   "metadata": {},
   "outputs": [],
   "source": [
    "sim_mat = {}\n",
    "for i, i_embedding in embeddings.items():\n",
    "    sim_mat[i] = []\n",
    "    for j, j_embedding in embeddings.items():\n",
    "        sim_mat[i].append(cos(i_embedding.unsqueeze(0), j_embedding.unsqueeze(0)).numpy()[0])"
   ]
  },
  {
   "cell_type": "code",
   "execution_count": 32,
   "metadata": {},
   "outputs": [],
   "source": [
    "df = pd.DataFrame.from_dict(sim_mat)"
   ]
  },
  {
   "cell_type": "code",
   "execution_count": 33,
   "metadata": {},
   "outputs": [],
   "source": [
    "df.index = list(embeddings.keys())"
   ]
  },
  {
   "cell_type": "code",
   "execution_count": 34,
   "metadata": {},
   "outputs": [
    {
     "data": {
      "text/html": [
       "<div>\n",
       "<style scoped>\n",
       "    .dataframe tbody tr th:only-of-type {\n",
       "        vertical-align: middle;\n",
       "    }\n",
       "\n",
       "    .dataframe tbody tr th {\n",
       "        vertical-align: top;\n",
       "    }\n",
       "\n",
       "    .dataframe thead th {\n",
       "        text-align: right;\n",
       "    }\n",
       "</style>\n",
       "<table border=\"1\" class=\"dataframe\">\n",
       "  <thead>\n",
       "    <tr style=\"text-align: right;\">\n",
       "      <th></th>\n",
       "      <th>Se7en</th>\n",
       "      <th>Fight Club</th>\n",
       "      <th>The Silence of the Lambs</th>\n",
       "      <th>Star Wars: Episode I - The Phantom Menace</th>\n",
       "      <th>Star Wars: Episode II - Attack of the Clones</th>\n",
       "      <th>Toy Story</th>\n",
       "      <th>Toy Story 2</th>\n",
       "      <th>Back to the Future</th>\n",
       "      <th>Finding Nemo</th>\n",
       "      <th>もののけ姫</th>\n",
       "    </tr>\n",
       "  </thead>\n",
       "  <tbody>\n",
       "    <tr>\n",
       "      <th>Se7en</th>\n",
       "      <td>1.000000</td>\n",
       "      <td>0.814675</td>\n",
       "      <td>0.869972</td>\n",
       "      <td>0.741315</td>\n",
       "      <td>0.679290</td>\n",
       "      <td>0.740019</td>\n",
       "      <td>0.786135</td>\n",
       "      <td>0.790225</td>\n",
       "      <td>0.785805</td>\n",
       "      <td>0.791170</td>\n",
       "    </tr>\n",
       "    <tr>\n",
       "      <th>Fight Club</th>\n",
       "      <td>0.814675</td>\n",
       "      <td>1.000000</td>\n",
       "      <td>0.807927</td>\n",
       "      <td>0.743305</td>\n",
       "      <td>0.713421</td>\n",
       "      <td>0.780952</td>\n",
       "      <td>0.831383</td>\n",
       "      <td>0.823054</td>\n",
       "      <td>0.818595</td>\n",
       "      <td>0.756937</td>\n",
       "    </tr>\n",
       "    <tr>\n",
       "      <th>The Silence of the Lambs</th>\n",
       "      <td>0.869972</td>\n",
       "      <td>0.807927</td>\n",
       "      <td>1.000000</td>\n",
       "      <td>0.787159</td>\n",
       "      <td>0.719146</td>\n",
       "      <td>0.756720</td>\n",
       "      <td>0.817006</td>\n",
       "      <td>0.792403</td>\n",
       "      <td>0.797807</td>\n",
       "      <td>0.800682</td>\n",
       "    </tr>\n",
       "    <tr>\n",
       "      <th>Star Wars: Episode I - The Phantom Menace</th>\n",
       "      <td>0.741315</td>\n",
       "      <td>0.743305</td>\n",
       "      <td>0.787159</td>\n",
       "      <td>1.000000</td>\n",
       "      <td>0.864042</td>\n",
       "      <td>0.746756</td>\n",
       "      <td>0.771561</td>\n",
       "      <td>0.760998</td>\n",
       "      <td>0.725159</td>\n",
       "      <td>0.812547</td>\n",
       "    </tr>\n",
       "    <tr>\n",
       "      <th>Star Wars: Episode II - Attack of the Clones</th>\n",
       "      <td>0.679290</td>\n",
       "      <td>0.713421</td>\n",
       "      <td>0.719146</td>\n",
       "      <td>0.864042</td>\n",
       "      <td>1.000000</td>\n",
       "      <td>0.677848</td>\n",
       "      <td>0.724453</td>\n",
       "      <td>0.744472</td>\n",
       "      <td>0.661070</td>\n",
       "      <td>0.729285</td>\n",
       "    </tr>\n",
       "    <tr>\n",
       "      <th>Toy Story</th>\n",
       "      <td>0.740019</td>\n",
       "      <td>0.780952</td>\n",
       "      <td>0.756720</td>\n",
       "      <td>0.746756</td>\n",
       "      <td>0.677848</td>\n",
       "      <td>1.000000</td>\n",
       "      <td>0.919511</td>\n",
       "      <td>0.840042</td>\n",
       "      <td>0.829979</td>\n",
       "      <td>0.769098</td>\n",
       "    </tr>\n",
       "    <tr>\n",
       "      <th>Toy Story 2</th>\n",
       "      <td>0.786135</td>\n",
       "      <td>0.831383</td>\n",
       "      <td>0.817006</td>\n",
       "      <td>0.771561</td>\n",
       "      <td>0.724453</td>\n",
       "      <td>0.919511</td>\n",
       "      <td>1.000000</td>\n",
       "      <td>0.863449</td>\n",
       "      <td>0.870451</td>\n",
       "      <td>0.796050</td>\n",
       "    </tr>\n",
       "    <tr>\n",
       "      <th>Back to the Future</th>\n",
       "      <td>0.790225</td>\n",
       "      <td>0.823054</td>\n",
       "      <td>0.792403</td>\n",
       "      <td>0.760998</td>\n",
       "      <td>0.744472</td>\n",
       "      <td>0.840042</td>\n",
       "      <td>0.863449</td>\n",
       "      <td>1.000000</td>\n",
       "      <td>0.832324</td>\n",
       "      <td>0.813708</td>\n",
       "    </tr>\n",
       "    <tr>\n",
       "      <th>Finding Nemo</th>\n",
       "      <td>0.785805</td>\n",
       "      <td>0.818595</td>\n",
       "      <td>0.797807</td>\n",
       "      <td>0.725159</td>\n",
       "      <td>0.661070</td>\n",
       "      <td>0.829979</td>\n",
       "      <td>0.870451</td>\n",
       "      <td>0.832324</td>\n",
       "      <td>1.000000</td>\n",
       "      <td>0.807485</td>\n",
       "    </tr>\n",
       "    <tr>\n",
       "      <th>もののけ姫</th>\n",
       "      <td>0.791170</td>\n",
       "      <td>0.756937</td>\n",
       "      <td>0.800682</td>\n",
       "      <td>0.812547</td>\n",
       "      <td>0.729285</td>\n",
       "      <td>0.769098</td>\n",
       "      <td>0.796050</td>\n",
       "      <td>0.813708</td>\n",
       "      <td>0.807485</td>\n",
       "      <td>1.000000</td>\n",
       "    </tr>\n",
       "  </tbody>\n",
       "</table>\n",
       "</div>"
      ],
      "text/plain": [
       "                                                 Se7en  Fight Club  \\\n",
       "Se7en                                         1.000000    0.814675   \n",
       "Fight Club                                    0.814675    1.000000   \n",
       "The Silence of the Lambs                      0.869972    0.807927   \n",
       "Star Wars: Episode I - The Phantom Menace     0.741315    0.743305   \n",
       "Star Wars: Episode II - Attack of the Clones  0.679290    0.713421   \n",
       "Toy Story                                     0.740019    0.780952   \n",
       "Toy Story 2                                   0.786135    0.831383   \n",
       "Back to the Future                            0.790225    0.823054   \n",
       "Finding Nemo                                  0.785805    0.818595   \n",
       "もののけ姫                                         0.791170    0.756937   \n",
       "\n",
       "                                              The Silence of the Lambs  \\\n",
       "Se7en                                                         0.869972   \n",
       "Fight Club                                                    0.807927   \n",
       "The Silence of the Lambs                                      1.000000   \n",
       "Star Wars: Episode I - The Phantom Menace                     0.787159   \n",
       "Star Wars: Episode II - Attack of the Clones                  0.719146   \n",
       "Toy Story                                                     0.756720   \n",
       "Toy Story 2                                                   0.817006   \n",
       "Back to the Future                                            0.792403   \n",
       "Finding Nemo                                                  0.797807   \n",
       "もののけ姫                                                         0.800682   \n",
       "\n",
       "                                              Star Wars: Episode I - The Phantom Menace  \\\n",
       "Se7en                                                                          0.741315   \n",
       "Fight Club                                                                     0.743305   \n",
       "The Silence of the Lambs                                                       0.787159   \n",
       "Star Wars: Episode I - The Phantom Menace                                      1.000000   \n",
       "Star Wars: Episode II - Attack of the Clones                                   0.864042   \n",
       "Toy Story                                                                      0.746756   \n",
       "Toy Story 2                                                                    0.771561   \n",
       "Back to the Future                                                             0.760998   \n",
       "Finding Nemo                                                                   0.725159   \n",
       "もののけ姫                                                                          0.812547   \n",
       "\n",
       "                                              Star Wars: Episode II - Attack of the Clones  \\\n",
       "Se7en                                                                             0.679290   \n",
       "Fight Club                                                                        0.713421   \n",
       "The Silence of the Lambs                                                          0.719146   \n",
       "Star Wars: Episode I - The Phantom Menace                                         0.864042   \n",
       "Star Wars: Episode II - Attack of the Clones                                      1.000000   \n",
       "Toy Story                                                                         0.677848   \n",
       "Toy Story 2                                                                       0.724453   \n",
       "Back to the Future                                                                0.744472   \n",
       "Finding Nemo                                                                      0.661070   \n",
       "もののけ姫                                                                             0.729285   \n",
       "\n",
       "                                              Toy Story  Toy Story 2  \\\n",
       "Se7en                                          0.740019     0.786135   \n",
       "Fight Club                                     0.780952     0.831383   \n",
       "The Silence of the Lambs                       0.756720     0.817006   \n",
       "Star Wars: Episode I - The Phantom Menace      0.746756     0.771561   \n",
       "Star Wars: Episode II - Attack of the Clones   0.677848     0.724453   \n",
       "Toy Story                                      1.000000     0.919511   \n",
       "Toy Story 2                                    0.919511     1.000000   \n",
       "Back to the Future                             0.840042     0.863449   \n",
       "Finding Nemo                                   0.829979     0.870451   \n",
       "もののけ姫                                          0.769098     0.796050   \n",
       "\n",
       "                                              Back to the Future  \\\n",
       "Se7en                                                   0.790225   \n",
       "Fight Club                                              0.823054   \n",
       "The Silence of the Lambs                                0.792403   \n",
       "Star Wars: Episode I - The Phantom Menace               0.760998   \n",
       "Star Wars: Episode II - Attack of the Clones            0.744472   \n",
       "Toy Story                                               0.840042   \n",
       "Toy Story 2                                             0.863449   \n",
       "Back to the Future                                      1.000000   \n",
       "Finding Nemo                                            0.832324   \n",
       "もののけ姫                                                   0.813708   \n",
       "\n",
       "                                              Finding Nemo     もののけ姫  \n",
       "Se7en                                             0.785805  0.791170  \n",
       "Fight Club                                        0.818595  0.756937  \n",
       "The Silence of the Lambs                          0.797807  0.800682  \n",
       "Star Wars: Episode I - The Phantom Menace         0.725159  0.812547  \n",
       "Star Wars: Episode II - Attack of the Clones      0.661070  0.729285  \n",
       "Toy Story                                         0.829979  0.769098  \n",
       "Toy Story 2                                       0.870451  0.796050  \n",
       "Back to the Future                                0.832324  0.813708  \n",
       "Finding Nemo                                      1.000000  0.807485  \n",
       "もののけ姫                                             0.807485  1.000000  "
      ]
     },
     "execution_count": 34,
     "metadata": {},
     "output_type": "execute_result"
    }
   ],
   "source": [
    "df"
   ]
  },
  {
   "cell_type": "code",
   "execution_count": 37,
   "metadata": {},
   "outputs": [
    {
     "data": {
      "image/png": "[encoded data removed]",
      "text/plain": [
       "<Figure size 432x288 with 2 Axes>"
      ]
     },
     "metadata": {},
     "output_type": "display_data"
    }
   ],
   "source": [
    "%matplotlib inline\n",
    "import seaborn as sns\n",
    "sns.heatmap(df, cmap= sns.color_palette('coolwarm', 10), annot=True,fmt='.2f', vmin = 0.5, vmax = 1);"
   ]
  },
  {
   "cell_type": "code",
   "execution_count": null,
   "metadata": {},
   "outputs": [],
   "source": []
  },
  {
   "cell_type": "code",
   "execution_count": null,
   "metadata": {},
   "outputs": [],
   "source": []
  }
 ],
 "metadata": {
  "kernelspec": {
   "display_name": "conda_pytorch_p36",
   "language": "python",
   "name": "conda_pytorch_p36"
  },
  "language_info": {
   "codemirror_mode": {
    "name": "ipython",
    "version": 3
   },
   "file_extension": ".py",
   "mimetype": "text/x-python",
   "name": "python",
   "nbconvert_exporter": "python",
   "pygments_lexer": "ipython3",
   "version": "3.6.5"
  }
 },
 "nbformat": 4,
 "nbformat_minor": 4
}
